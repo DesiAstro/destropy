{
 "cells": [
  {
   "cell_type": "code",
   "execution_count": 249,
   "id": "8a9b8b19-915b-46de-8fbe-072576853ea9",
   "metadata": {},
   "outputs": [],
   "source": [
    "import destropy\n",
    "from destropy.core import subtract_continuum_list\n",
    "from destropy.core import crop_cube\n",
    "from destropy.core import crop_variance"
   ]
  },
  {
   "cell_type": "code",
   "execution_count": null,
   "id": "652925e2-c550-44ea-923a-fd0c6fe1431c",
   "metadata": {},
   "outputs": [],
   "source": []
  },
  {
   "cell_type": "code",
   "execution_count": 250,
   "id": "f7dd24d8-a245-4729-9409-d187bbb1f862",
   "metadata": {},
   "outputs": [
    {
     "data": {
      "text/plain": [
       "['manga-11946-9101-LINCUBE.fits']"
      ]
     },
     "execution_count": 250,
     "metadata": {},
     "output_type": "execute_result"
    }
   ],
   "source": [
    "in_fits=['manga-11946-9101-LINCUBE.fits']\n",
    "in_fits"
   ]
  },
  {
   "cell_type": "code",
   "execution_count": 251,
   "id": "349b1729-5a2f-460b-b7cc-e2295e68ede5",
   "metadata": {},
   "outputs": [
    {
     "data": {
      "text/plain": [
       "['manga-11946-9101-LINCUBE_cont.fits']"
      ]
     },
     "execution_count": 251,
     "metadata": {},
     "output_type": "execute_result"
    }
   ],
   "source": [
    "out_fits=['manga-11946-9101-LINCUBE_cont.fits']\n",
    "out_fits"
   ]
  },
  {
   "cell_type": "code",
   "execution_count": 252,
   "id": "bf988af7-e462-44d1-b022-a269e95fa06d",
   "metadata": {},
   "outputs": [
    {
     "name": "stdout",
     "output_type": "stream",
     "text": [
      "Continuum-subtracted cube saved to manga-11946-9101-LINCUBE_cont.fits\n"
     ]
    }
   ],
   "source": [
    "subtract_continuum_list(input_fits_list=in_fits, output_fits_list=out_fits)"
   ]
  },
  {
   "cell_type": "code",
   "execution_count": 253,
   "id": "08e49e15-aa97-4bdd-bcc7-4aa5f0d75765",
   "metadata": {},
   "outputs": [],
   "source": [
    "crop_out_fits=['manga-11946-9101-LINCUBE_crop.fits']"
   ]
  },
  {
   "cell_type": "code",
   "execution_count": 254,
   "id": "5b4a2267-7912-4c7e-8291-b084f9ddd834",
   "metadata": {},
   "outputs": [
    {
     "name": "stdout",
     "output_type": "stream",
     "text": [
      "Cube before crop: (6732, 64, 64)\n",
      "Cube after crop: (20, 64, 64)\n",
      "Cropped cube saved to manga-11946-9101-LINCUBE_crop.fits\n"
     ]
    }
   ],
   "source": [
    "crop_cube(input_fits=out_fits[0], output_fits=crop_out_fits[0],x1=None,x2=None,y1=None,y2=None, z1=3340, z2=3360)"
   ]
  },
  {
   "cell_type": "code",
   "execution_count": 255,
   "id": "0393463e-853a-4b56-a45f-d709837399eb",
   "metadata": {},
   "outputs": [
    {
     "name": "stdout",
     "output_type": "stream",
     "text": [
      "manga-10001-1901-LINCUBE_cont_crop.fits\n",
      "manga-10001-9102-LINCUBE_cont_crop.fits\n",
      "manga-10215-6104-LINCUBE_crop.fits\n",
      "manga-10226-12704-LINCUBE_crop.fits\n",
      "manga-10846-6104-LINCUBE_cont_crop.fits\n",
      "manga-10846-9102-LINCUBE_cont_crop.fits\n",
      "manga-11004-12705-LINCUBE_cont_crop.fits\n",
      "manga-11946-9101-LINCUBE_crop.fits\n",
      "manga-9892-12703-LINCUBE_crop.fits\n"
     ]
    }
   ],
   "source": [
    "ls *crop.fits"
   ]
  },
  {
   "cell_type": "code",
   "execution_count": 256,
   "id": "406cd9e1-340b-4368-b2b3-45f532e27dd2",
   "metadata": {},
   "outputs": [
    {
     "name": "stdout",
     "output_type": "stream",
     "text": [
      "crop_extracted_variance cube saved to manga-11946-9101-LINCUBE_var.fits\n",
      "Cube after crop: (20, 64, 64)\n"
     ]
    }
   ],
   "source": [
    "crop_variance('manga-11946-9101-LINCUBE.fits','manga-11946-9101-LINCUBE_var.fits',x1=None,x2=None,y1=None,y2=None, z1=3340, z2=3360)"
   ]
  },
  {
   "cell_type": "code",
   "execution_count": null,
   "id": "993ea159-97ea-4eae-bc40-2f91f7c5aaa9",
   "metadata": {},
   "outputs": [],
   "source": []
  },
  {
   "cell_type": "markdown",
   "id": "cdad0346-5d64-4ffb-bd7b-20e0ff88d366",
   "metadata": {},
   "source": [
    "\n",
    "# LINE presence testing"
   ]
  },
  {
   "cell_type": "code",
   "execution_count": 269,
   "id": "94582672-5a3f-4dff-985d-acb4dd6ef223",
   "metadata": {},
   "outputs": [
    {
     "data": {
      "text/plain": [
       "[<matplotlib.lines.Line2D at 0x75d2a1925c10>]"
      ]
     },
     "execution_count": 269,
     "metadata": {},
     "output_type": "execute_result"
    },
    {
     "data": {
      "image/png": "[encoded data removed]",
      "text/plain": [
       "<Figure size 432x288 with 1 Axes>"
      ]
     },
     "metadata": {
      "needs_background": "light"
     },
     "output_type": "display_data"
    }
   ],
   "source": [
    "from astropy.io import fits\n",
    "import matplotlib.pyplot as plt\n",
    "flux=fits.open('manga-11946-9101-LINCUBE.fits')[1].data\n",
    "plt.plot(flux[3340:3360,30,27])"
   ]
  },
  {
   "cell_type": "code",
   "execution_count": null,
   "id": "cf2c07bf-3055-4d5e-972c-897164de501e",
   "metadata": {},
   "outputs": [],
   "source": [
    "\n"
   ]
  },
  {
   "cell_type": "code",
   "execution_count": null,
   "id": "d5b82cf5-dd36-4055-9a6c-2234c1523c48",
   "metadata": {},
   "outputs": [],
   "source": []
  },
  {
   "cell_type": "code",
   "execution_count": null,
   "id": "1a875e6c-ec33-4ed9-8619-bc7c22b7a978",
   "metadata": {},
   "outputs": [],
   "source": []
  },
  {
   "cell_type": "code",
   "execution_count": null,
   "id": "5f47bde9-7422-47d6-8158-cf4cb5952180",
   "metadata": {},
   "outputs": [],
   "source": []
  }
 ],
 "metadata": {
  "kernelspec": {
   "display_name": "Python 3 (ipykernel)",
   "language": "python",
   "name": "python3"
  },
  "language_info": {
   "codemirror_mode": {
    "name": "ipython",
    "version": 3
   },
   "file_extension": ".py",
   "mimetype": "text/x-python",
   "name": "python",
   "nbconvert_exporter": "python",
   "pygments_lexer": "ipython3",
   "version": "3.9.12"
  }
 },
 "nbformat": 4,
 "nbformat_minor": 5
}
